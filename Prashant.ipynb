{
  "nbformat": 4,
  "nbformat_minor": 0,
  "metadata": {
    "colab": {
      "provenance": []
    },
    "kernelspec": {
      "name": "python3",
      "display_name": "Python 3"
    },
    "language_info": {
      "name": "python"
    }
  },
  "cells": [
    {
      "cell_type": "code",
      "execution_count": 2,
      "metadata": {
        "id": "zMPTNJ2VWEgi"
      },
      "outputs": [],
      "source": [
        "import numpy as np\n",
        "import pandas as pd\n",
        "import sklearn"
      ]
    },
    {
      "cell_type": "code",
      "source": [
        "from sklearn.datasets import load_boston\n",
        "df=load_boston()"
      ],
      "metadata": {
        "id": "wwXVWiBAWg9g"
      },
      "execution_count": null,
      "outputs": []
    },
    {
      "cell_type": "code",
      "source": [
        "df.keys()"
      ],
      "metadata": {
        "id": "SDFlrkQvWuJ_"
      },
      "execution_count": null,
      "outputs": []
    },
    {
      "cell_type": "code",
      "source": [
        "print(df.DESCR)"
      ],
      "metadata": {
        "id": "i_rFpIVOWxt3"
      },
      "execution_count": null,
      "outputs": []
    },
    {
      "cell_type": "code",
      "source": [
        "boston= pd.DataFrame(df.data,columns=df.feature_names)\n",
        "boston.head()"
      ],
      "metadata": {
        "id": "V58mmBk0W4Mb"
      },
      "execution_count": null,
      "outputs": []
    },
    {
      "cell_type": "code",
      "source": [
        "boston['SUMMATION']=df.target\n",
        "boston.head()"
      ],
      "metadata": {
        "id": "Ms6bh03mXEl9"
      },
      "execution_count": null,
      "outputs": []
    },
    {
      "cell_type": "code",
      "source": [
        "boston.isnull()"
      ],
      "metadata": {
        "id": "8EFo363KXSee"
      },
      "execution_count": null,
      "outputs": []
    },
    {
      "cell_type": "code",
      "source": [
        "boston.isnull().sum()"
      ],
      "metadata": {
        "id": "AwWMmhPjXXMC"
      },
      "execution_count": null,
      "outputs": []
    },
    {
      "cell_type": "code",
      "source": [
        "from sklearn.model_selection import train_test_split\n",
        "X = boston.drop('SUMMATION',axis=1)\n",
        "Y = boston['SUMMATION']\n",
        "X_train, X_test, Y_train, Y_test=train_test_split(X,Y, test_size=0.15, random_state=1)\n",
        "print(X_train.shape)\n",
        "print(X_test.shape)\n",
        "print(Y_train.shape)\n",
        "print(Y_test.shape)"
      ],
      "metadata": {
        "colab": {
          "base_uri": "https://localhost:8080/"
        },
        "id": "VRuuNC_kXdzB",
        "outputId": "c8835cc5-189c-4638-aaa3-599d52861b65"
      },
      "execution_count": 13,
      "outputs": [
        {
          "output_type": "stream",
          "name": "stdout",
          "text": [
            "(430, 13)\n",
            "(76, 13)\n",
            "(430,)\n",
            "(76,)\n"
          ]
        }
      ]
    },
    {
      "cell_type": "code",
      "source": [
        "from sklearn.linear_model import LinearRegression\n",
        "from sklearn.metrics import mean_squared_error"
      ],
      "metadata": {
        "id": "g5fDbuobYTj5"
      },
      "execution_count": 15,
      "outputs": []
    },
    {
      "cell_type": "code",
      "source": [
        "lin_model=LinearRegression()\n",
        "lin_model.fit(X_train,Y_train)"
      ],
      "metadata": {
        "colab": {
          "base_uri": "https://localhost:8080/"
        },
        "id": "LXSinhOyYjXM",
        "outputId": "c3f9f5f3-28fa-42a4-c7f2-0ce7d1c9322f"
      },
      "execution_count": 16,
      "outputs": [
        {
          "output_type": "execute_result",
          "data": {
            "text/plain": [
              "LinearRegression()"
            ]
          },
          "metadata": {},
          "execution_count": 16
        }
      ]
    },
    {
      "cell_type": "code",
      "source": [
        "y_train_predict=lin_model.predict(X_train)\n",
        "rajput=(np.sqrt(mean_squared_error(Y_train, y_train_predict)))\n",
        "print(\"this model is for training set\")\n",
        "print('rajput is {}'.format(rajput))\n",
        "print(\"\\n\")\n",
        "y_test_predict=lin_model.predict(X_test)\n",
        "rajput=(np.sqrt(mean_squared_error(Y_test,y_test_predict)))\n",
        "print(\"this model is for testing set\")\n",
        "print('RAJPUT is{}'.format(rajput))"
      ],
      "metadata": {
        "colab": {
          "base_uri": "https://localhost:8080/"
        },
        "id": "KbqAOecgYwTO",
        "outputId": "2a5c4f54-c444-40cd-dc22-8ef641c5fa2a"
      },
      "execution_count": 17,
      "outputs": [
        {
          "output_type": "stream",
          "name": "stdout",
          "text": [
            "this model is for training set\n",
            "rajput is 4.691577015539126\n",
            "\n",
            "\n",
            "this model is for testing set\n",
            "RAJPUT is4.685497050472062\n"
          ]
        }
      ]
    },
    {
      "cell_type": "code",
      "source": [],
      "metadata": {
        "id": "6yuaIwxEZHN9"
      },
      "execution_count": null,
      "outputs": []
    }
  ]
}